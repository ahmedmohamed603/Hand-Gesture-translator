{
 "cells": [
  {
   "cell_type": "code",
   "execution_count": 1,
   "id": "844ed10e",
   "metadata": {},
   "outputs": [
    {
     "name": "stdout",
     "output_type": "stream",
     "text": [
      "Accuracy: 0.99\n",
      "F1 Score: 0.99\n"
     ]
    }
   ],
   "source": [
    "import pandas as pd\n",
    "import numpy as np\n",
    "from sklearn.model_selection import train_test_split, GridSearchCV\n",
    "from sklearn.svm import SVC\n",
    "from sklearn.metrics import f1_score, precision_score, recall_score\n",
    "import joblib\n",
    "\n",
    "# Load dataset\n",
    "DATA_PATH = r\"C:\\Users\\moham\\Downloads\\English_Words\\hand_landmarks_data.csv\"\n",
    "df = pd.read_csv(DATA_PATH)\n",
    "\n",
    "# Preprocessing: Normalize landmarks relative to wrist and scale by middle finger tip\n",
    "def preprocess_data(df):\n",
    "    df_scaled = df.copy()\n",
    "    \n",
    "    # Center landmarks around wrist (joint 1)\n",
    "    wrist_x = df_scaled['x1'].copy()\n",
    "    wrist_y = df_scaled['y1'].copy()\n",
    "    \n",
    "    for i in range(1, 22):\n",
    "        df_scaled[f'x{i}'] -= wrist_x\n",
    "        df_scaled[f'y{i}'] -= wrist_y\n",
    "    \n",
    "    # Normalize by middle finger tip distance (joint 13)\n",
    "    mid_finger_tip_dist = np.sqrt(df_scaled['x13']**2 + df_scaled['y13']**2)\n",
    "    \n",
    "    for i in range(1, 22):\n",
    "        df_scaled[f'x{i}'] /= mid_finger_tip_dist\n",
    "        df_scaled[f'y{i}'] /= mid_finger_tip_dist\n",
    "    \n",
    "    return df_scaled\n",
    "\n",
    "df_scaled = preprocess_data(df)\n",
    "\n",
    "# Split features and labels\n",
    "X = df_scaled.drop(\"label\", axis=1)\n",
    "y = df_scaled[\"label\"]\n",
    "\n",
    "# Train-test split\n",
    "X_train, X_test, y_train, y_test = train_test_split(\n",
    "    X, y, test_size=0.2, random_state=100\n",
    ")\n",
    "\n",
    "# SVM with GridSearch\n",
    "param_grid = {\n",
    "    'kernel': ['rbf'],\n",
    "    'C': [0.01, 0.1, 1, 10, 100],\n",
    "    'gamma': [0.01, 0.1, 1, 10, 100]\n",
    "}\n",
    "\n",
    "svm = SVC(class_weight='balanced')\n",
    "grid_search = GridSearchCV(svm, param_grid, scoring='accuracy', n_jobs=-1)\n",
    "grid_search.fit(X_train, y_train)\n",
    "\n",
    "# Get best model\n",
    "best_model = grid_search.best_estimator_\n",
    "\n",
    "# Save model and label classes\n",
    "joblib.dump({\n",
    "    'model': best_model,\n",
    "    'label_classes': best_model.classes_\n",
    "}, \"svm_model_with_labels.pkl\")\n",
    "\n",
    "# Optional: Print evaluation metrics\n",
    "y_pred = best_model.predict(X_test)\n",
    "print(f\"Accuracy: {best_model.score(X_test, y_test):.2f}\")\n",
    "print(f\"F1 Score: {f1_score(y_test, y_pred, average='weighted'):.2f}\")\n",
    "\n",
    "# Load model and labels\n",
    "saved_data = joblib.load(\"svm_model_with_labels.pkl\")\n",
    "model = saved_data['model']\n",
    "label_classes = saved_data['label_classes']\n"
   ]
  }
 ],
 "metadata": {
  "kernelspec": {
   "display_name": "base",
   "language": "python",
   "name": "python3"
  },
  "language_info": {
   "codemirror_mode": {
    "name": "ipython",
    "version": 3
   },
   "file_extension": ".py",
   "mimetype": "text/x-python",
   "name": "python",
   "nbconvert_exporter": "python",
   "pygments_lexer": "ipython3",
   "version": "3.12.4"
  }
 },
 "nbformat": 4,
 "nbformat_minor": 5
}
